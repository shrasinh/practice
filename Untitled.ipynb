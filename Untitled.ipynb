{
 "cells": [
  {
   "cell_type": "code",
   "execution_count": 1,
   "id": "f52aa424-0ed5-43a5-b2f5-1a28f1d8e28e",
   "metadata": {
    "tags": []
   },
   "outputs": [
    {
     "name": "stdout",
     "output_type": "stream",
     "text": [
      "Installed kernelspec mlops in /home/jupyter/.local/share/jupyter/kernels/mlops\n"
     ]
    }
   ],
   "source": [
    "%%bash\n",
    "# Install Jupyter kernel in the virtual environment\n",
    "source .env/bin/activate \n",
    "uv pip install ipykernel -q\n",
    "\n",
    "# Install custom kernel\n",
    "python -m ipykernel install --user --name=mlops --display-name=\"Python (practice)\""
   ]
  },
  {
   "cell_type": "code",
   "execution_count": 1,
   "id": "43382fd6-70c8-4fe5-9739-bd9801571c61",
   "metadata": {
    "tags": []
   },
   "outputs": [
    {
     "name": "stdout",
     "output_type": "stream",
     "text": [
      "env: PYTHONWARNINGS=ignore\n",
      "env: JUPYTER_PLATFORM_DIRS=1\n"
     ]
    }
   ],
   "source": [
    "import os\n",
    "import warnings\n",
    "\n",
    "# Setup environment path for consistent package management\n",
    "os.environ['PATH'] = os.path.abspath('.env/bin') + ':' + os.environ.get('PATH', '')\n",
    "\n",
    "# Suppress warnings for cleaner output\n",
    "warnings.filterwarnings(\"ignore\")\n",
    "%env PYTHONWARNINGS=ignore\n",
    "%env JUPYTER_PLATFORM_DIRS=1"
   ]
  },
  {
   "cell_type": "code",
   "execution_count": 2,
   "id": "b5949eae-46d9-4517-99dc-b702e75c69a4",
   "metadata": {
    "tags": []
   },
   "outputs": [
    {
     "name": "stdout",
     "output_type": "stream",
     "text": [
      "Original dataset shape: (20640, 10)\n",
      "Dataset with timestamps:\n"
     ]
    },
    {
     "data": {
      "text/html": [
       "<div>\n",
       "<style scoped>\n",
       "    .dataframe tbody tr th:only-of-type {\n",
       "        vertical-align: middle;\n",
       "    }\n",
       "\n",
       "    .dataframe tbody tr th {\n",
       "        vertical-align: top;\n",
       "    }\n",
       "\n",
       "    .dataframe thead th {\n",
       "        text-align: right;\n",
       "    }\n",
       "</style>\n",
       "<table border=\"1\" class=\"dataframe\">\n",
       "  <thead>\n",
       "    <tr style=\"text-align: right;\">\n",
       "      <th></th>\n",
       "      <th>longitude</th>\n",
       "      <th>latitude</th>\n",
       "      <th>housing_median_age</th>\n",
       "      <th>total_rooms</th>\n",
       "      <th>total_bedrooms</th>\n",
       "      <th>population</th>\n",
       "      <th>households</th>\n",
       "      <th>median_income</th>\n",
       "      <th>median_house_value</th>\n",
       "      <th>ocean_proximity</th>\n",
       "      <th>event_timestamp</th>\n",
       "    </tr>\n",
       "  </thead>\n",
       "  <tbody>\n",
       "    <tr>\n",
       "      <th>0</th>\n",
       "      <td>-122.23</td>\n",
       "      <td>37.88</td>\n",
       "      <td>41.0</td>\n",
       "      <td>880.0</td>\n",
       "      <td>129.0</td>\n",
       "      <td>322.0</td>\n",
       "      <td>126.0</td>\n",
       "      <td>8.3252</td>\n",
       "      <td>452600.0</td>\n",
       "      <td>NEAR BAY</td>\n",
       "      <td>2025-07-18 15:21:36.889108</td>\n",
       "    </tr>\n",
       "    <tr>\n",
       "      <th>1</th>\n",
       "      <td>-122.22</td>\n",
       "      <td>37.86</td>\n",
       "      <td>21.0</td>\n",
       "      <td>7099.0</td>\n",
       "      <td>1106.0</td>\n",
       "      <td>2401.0</td>\n",
       "      <td>1138.0</td>\n",
       "      <td>8.3014</td>\n",
       "      <td>358500.0</td>\n",
       "      <td>NEAR BAY</td>\n",
       "      <td>2025-07-18 15:26:36.889108</td>\n",
       "    </tr>\n",
       "    <tr>\n",
       "      <th>2</th>\n",
       "      <td>-122.24</td>\n",
       "      <td>37.85</td>\n",
       "      <td>52.0</td>\n",
       "      <td>1467.0</td>\n",
       "      <td>190.0</td>\n",
       "      <td>496.0</td>\n",
       "      <td>177.0</td>\n",
       "      <td>7.2574</td>\n",
       "      <td>352100.0</td>\n",
       "      <td>NEAR BAY</td>\n",
       "      <td>2025-07-18 15:31:36.889108</td>\n",
       "    </tr>\n",
       "    <tr>\n",
       "      <th>3</th>\n",
       "      <td>-122.25</td>\n",
       "      <td>37.85</td>\n",
       "      <td>52.0</td>\n",
       "      <td>1274.0</td>\n",
       "      <td>235.0</td>\n",
       "      <td>558.0</td>\n",
       "      <td>219.0</td>\n",
       "      <td>5.6431</td>\n",
       "      <td>341300.0</td>\n",
       "      <td>NEAR BAY</td>\n",
       "      <td>2025-07-18 15:36:36.889108</td>\n",
       "    </tr>\n",
       "    <tr>\n",
       "      <th>4</th>\n",
       "      <td>-122.25</td>\n",
       "      <td>37.85</td>\n",
       "      <td>52.0</td>\n",
       "      <td>1627.0</td>\n",
       "      <td>280.0</td>\n",
       "      <td>565.0</td>\n",
       "      <td>259.0</td>\n",
       "      <td>3.8462</td>\n",
       "      <td>342200.0</td>\n",
       "      <td>NEAR BAY</td>\n",
       "      <td>2025-07-18 15:41:36.889108</td>\n",
       "    </tr>\n",
       "    <tr>\n",
       "      <th>5</th>\n",
       "      <td>-122.25</td>\n",
       "      <td>37.85</td>\n",
       "      <td>52.0</td>\n",
       "      <td>919.0</td>\n",
       "      <td>213.0</td>\n",
       "      <td>413.0</td>\n",
       "      <td>193.0</td>\n",
       "      <td>4.0368</td>\n",
       "      <td>269700.0</td>\n",
       "      <td>NEAR BAY</td>\n",
       "      <td>2025-07-18 15:46:36.889108</td>\n",
       "    </tr>\n",
       "    <tr>\n",
       "      <th>6</th>\n",
       "      <td>-122.25</td>\n",
       "      <td>37.84</td>\n",
       "      <td>52.0</td>\n",
       "      <td>2535.0</td>\n",
       "      <td>489.0</td>\n",
       "      <td>1094.0</td>\n",
       "      <td>514.0</td>\n",
       "      <td>3.6591</td>\n",
       "      <td>299200.0</td>\n",
       "      <td>NEAR BAY</td>\n",
       "      <td>2025-07-18 15:51:36.889108</td>\n",
       "    </tr>\n",
       "    <tr>\n",
       "      <th>7</th>\n",
       "      <td>-122.25</td>\n",
       "      <td>37.84</td>\n",
       "      <td>52.0</td>\n",
       "      <td>3104.0</td>\n",
       "      <td>687.0</td>\n",
       "      <td>1157.0</td>\n",
       "      <td>647.0</td>\n",
       "      <td>3.1200</td>\n",
       "      <td>241400.0</td>\n",
       "      <td>NEAR BAY</td>\n",
       "      <td>2025-07-18 15:56:36.889108</td>\n",
       "    </tr>\n",
       "    <tr>\n",
       "      <th>8</th>\n",
       "      <td>-122.26</td>\n",
       "      <td>37.84</td>\n",
       "      <td>42.0</td>\n",
       "      <td>2555.0</td>\n",
       "      <td>665.0</td>\n",
       "      <td>1206.0</td>\n",
       "      <td>595.0</td>\n",
       "      <td>2.0804</td>\n",
       "      <td>226700.0</td>\n",
       "      <td>NEAR BAY</td>\n",
       "      <td>2025-07-18 16:01:36.889108</td>\n",
       "    </tr>\n",
       "    <tr>\n",
       "      <th>9</th>\n",
       "      <td>-122.25</td>\n",
       "      <td>37.84</td>\n",
       "      <td>52.0</td>\n",
       "      <td>3549.0</td>\n",
       "      <td>707.0</td>\n",
       "      <td>1551.0</td>\n",
       "      <td>714.0</td>\n",
       "      <td>3.6912</td>\n",
       "      <td>261100.0</td>\n",
       "      <td>NEAR BAY</td>\n",
       "      <td>2025-07-18 16:06:36.889108</td>\n",
       "    </tr>\n",
       "  </tbody>\n",
       "</table>\n",
       "</div>"
      ],
      "text/plain": [
       "   longitude  latitude  housing_median_age  total_rooms  total_bedrooms  \\\n",
       "0    -122.23     37.88                41.0        880.0           129.0   \n",
       "1    -122.22     37.86                21.0       7099.0          1106.0   \n",
       "2    -122.24     37.85                52.0       1467.0           190.0   \n",
       "3    -122.25     37.85                52.0       1274.0           235.0   \n",
       "4    -122.25     37.85                52.0       1627.0           280.0   \n",
       "5    -122.25     37.85                52.0        919.0           213.0   \n",
       "6    -122.25     37.84                52.0       2535.0           489.0   \n",
       "7    -122.25     37.84                52.0       3104.0           687.0   \n",
       "8    -122.26     37.84                42.0       2555.0           665.0   \n",
       "9    -122.25     37.84                52.0       3549.0           707.0   \n",
       "\n",
       "   population  households  median_income  median_house_value ocean_proximity  \\\n",
       "0       322.0       126.0         8.3252            452600.0        NEAR BAY   \n",
       "1      2401.0      1138.0         8.3014            358500.0        NEAR BAY   \n",
       "2       496.0       177.0         7.2574            352100.0        NEAR BAY   \n",
       "3       558.0       219.0         5.6431            341300.0        NEAR BAY   \n",
       "4       565.0       259.0         3.8462            342200.0        NEAR BAY   \n",
       "5       413.0       193.0         4.0368            269700.0        NEAR BAY   \n",
       "6      1094.0       514.0         3.6591            299200.0        NEAR BAY   \n",
       "7      1157.0       647.0         3.1200            241400.0        NEAR BAY   \n",
       "8      1206.0       595.0         2.0804            226700.0        NEAR BAY   \n",
       "9      1551.0       714.0         3.6912            261100.0        NEAR BAY   \n",
       "\n",
       "             event_timestamp  \n",
       "0 2025-07-18 15:21:36.889108  \n",
       "1 2025-07-18 15:26:36.889108  \n",
       "2 2025-07-18 15:31:36.889108  \n",
       "3 2025-07-18 15:36:36.889108  \n",
       "4 2025-07-18 15:41:36.889108  \n",
       "5 2025-07-18 15:46:36.889108  \n",
       "6 2025-07-18 15:51:36.889108  \n",
       "7 2025-07-18 15:56:36.889108  \n",
       "8 2025-07-18 16:01:36.889108  \n",
       "9 2025-07-18 16:06:36.889108  "
      ]
     },
     "execution_count": 2,
     "metadata": {},
     "output_type": "execute_result"
    }
   ],
   "source": [
    "# Import required libraries\n",
    "import pandas as pd\n",
    "from datetime import datetime, timedelta\n",
    "\n",
    "# Load the Iris dataset\n",
    "data = pd.read_csv('data/housing.csv')\n",
    "print(f\"Original dataset shape: {data.shape}\")\n",
    "\n",
    "# Add timestamps for point-in-time feature serving\n",
    "# Create timestamps spaced 5 minutes apart for each record\n",
    "start_date = datetime.now()\n",
    "timestamps = [start_date + timedelta(minutes=i*5) for i in range(len(data))]\n",
    "data['event_timestamp'] = timestamps\n",
    "\n",
    "print(\"Dataset with timestamps:\")\n",
    "data.head(10)"
   ]
  },
  {
   "cell_type": "code",
   "execution_count": 4,
   "id": "41d302bc-b105-4da5-9a3a-103c9cec15a9",
   "metadata": {
    "tags": []
   },
   "outputs": [],
   "source": [
    "data[\"entity_id\"]=data.index"
   ]
  },
  {
   "cell_type": "code",
   "execution_count": 6,
   "id": "a9e09ceb-2449-4e29-9f88-400d4fc2df77",
   "metadata": {
    "tags": []
   },
   "outputs": [
    {
     "name": "stdout",
     "output_type": "stream",
     "text": [
      "<class 'pandas.core.frame.DataFrame'>\n",
      "RangeIndex: 20640 entries, 0 to 20639\n",
      "Data columns (total 12 columns):\n",
      " #   Column              Non-Null Count  Dtype         \n",
      "---  ------              --------------  -----         \n",
      " 0   longitude           20640 non-null  float64       \n",
      " 1   latitude            20640 non-null  float64       \n",
      " 2   housing_median_age  20640 non-null  float64       \n",
      " 3   total_rooms         20640 non-null  float64       \n",
      " 4   total_bedrooms      20433 non-null  float64       \n",
      " 5   population          20640 non-null  float64       \n",
      " 6   households          20640 non-null  float64       \n",
      " 7   median_income       20640 non-null  float64       \n",
      " 8   median_house_value  20640 non-null  float64       \n",
      " 9   ocean_proximity     20640 non-null  object        \n",
      " 10  event_timestamp     20640 non-null  datetime64[ns]\n",
      " 11  entity_id           20640 non-null  int64         \n",
      "dtypes: datetime64[ns](1), float64(9), int64(1), object(1)\n",
      "memory usage: 1.9+ MB\n"
     ]
    }
   ],
   "source": [
    "data.info()"
   ]
  },
  {
   "cell_type": "code",
   "execution_count": 8,
   "id": "90529f8c-3d5f-4292-aa58-54bb04bdf8a5",
   "metadata": {
    "tags": []
   },
   "outputs": [
    {
     "data": {
      "text/plain": [
       "(10000, 12)"
      ]
     },
     "execution_count": 8,
     "metadata": {},
     "output_type": "execute_result"
    }
   ],
   "source": [
    "data[0:10000].shape"
   ]
  },
  {
   "cell_type": "code",
   "execution_count": 9,
   "id": "fa07c9d0-407b-4bd5-9980-31b32f174e5c",
   "metadata": {
    "tags": []
   },
   "outputs": [
    {
     "name": "stdout",
     "output_type": "stream",
     "text": [
      "Entity dataframe created with 10000 records\n",
      "Entity dataframe preview:\n"
     ]
    },
    {
     "data": {
      "text/html": [
       "<div>\n",
       "<style scoped>\n",
       "    .dataframe tbody tr th:only-of-type {\n",
       "        vertical-align: middle;\n",
       "    }\n",
       "\n",
       "    .dataframe tbody tr th {\n",
       "        vertical-align: top;\n",
       "    }\n",
       "\n",
       "    .dataframe thead th {\n",
       "        text-align: right;\n",
       "    }\n",
       "</style>\n",
       "<table border=\"1\" class=\"dataframe\">\n",
       "  <thead>\n",
       "    <tr style=\"text-align: right;\">\n",
       "      <th></th>\n",
       "      <th>entity_id</th>\n",
       "      <th>event_timestamp</th>\n",
       "    </tr>\n",
       "  </thead>\n",
       "  <tbody>\n",
       "    <tr>\n",
       "      <th>0</th>\n",
       "      <td>0</td>\n",
       "      <td>2025-07-18 15:21:36.889108</td>\n",
       "    </tr>\n",
       "    <tr>\n",
       "      <th>1</th>\n",
       "      <td>1</td>\n",
       "      <td>2025-07-18 15:26:36.889108</td>\n",
       "    </tr>\n",
       "    <tr>\n",
       "      <th>2</th>\n",
       "      <td>2</td>\n",
       "      <td>2025-07-18 15:31:36.889108</td>\n",
       "    </tr>\n",
       "    <tr>\n",
       "      <th>3</th>\n",
       "      <td>3</td>\n",
       "      <td>2025-07-18 15:36:36.889108</td>\n",
       "    </tr>\n",
       "    <tr>\n",
       "      <th>4</th>\n",
       "      <td>4</td>\n",
       "      <td>2025-07-18 15:41:36.889108</td>\n",
       "    </tr>\n",
       "  </tbody>\n",
       "</table>\n",
       "</div>"
      ],
      "text/plain": [
       "   entity_id            event_timestamp\n",
       "0          0 2025-07-18 15:21:36.889108\n",
       "1          1 2025-07-18 15:26:36.889108\n",
       "2          2 2025-07-18 15:31:36.889108\n",
       "3          3 2025-07-18 15:36:36.889108\n",
       "4          4 2025-07-18 15:41:36.889108"
      ]
     },
     "execution_count": 9,
     "metadata": {},
     "output_type": "execute_result"
    }
   ],
   "source": [
    "filtered_data = data[0:10000]\n",
    "\n",
    "# Create entity dataframe with species and timestamps\n",
    "# This will be used for getting historical features\n",
    "result = filtered_data[['entity_id', 'event_timestamp']]\n",
    "\n",
    "# Save entity dataframe for later use in model training\n",
    "result.to_csv(\"data/entity.csv\", index=False)\n",
    "print(f\"Entity dataframe created with {len(result)} records\")\n",
    "print(\"Entity dataframe preview:\")\n",
    "result.head()"
   ]
  },
  {
   "cell_type": "code",
   "execution_count": 14,
   "id": "1e2fdcf3-2bf5-4fd0-87db-b9ba7234eb97",
   "metadata": {
    "tags": []
   },
   "outputs": [
    {
     "name": "stdout",
     "output_type": "stream",
     "text": [
      "<class 'pandas.core.frame.DataFrame'>\n",
      "RangeIndex: 20640 entries, 0 to 20639\n",
      "Data columns (total 12 columns):\n",
      " #   Column              Non-Null Count  Dtype         \n",
      "---  ------              --------------  -----         \n",
      " 0   longitude           20640 non-null  float64       \n",
      " 1   latitude            20640 non-null  float64       \n",
      " 2   housing_median_age  20640 non-null  float64       \n",
      " 3   total_rooms         20640 non-null  float64       \n",
      " 4   total_bedrooms      20433 non-null  float64       \n",
      " 5   population          20640 non-null  float64       \n",
      " 6   households          20640 non-null  float64       \n",
      " 7   median_income       20640 non-null  float64       \n",
      " 8   median_house_value  20640 non-null  float64       \n",
      " 9   ocean_proximity     20640 non-null  object        \n",
      " 10  event_timestamp     20640 non-null  datetime64[ns]\n",
      " 11  entity_id           20640 non-null  int64         \n",
      "dtypes: datetime64[ns](1), float64(9), int64(1), object(1)\n",
      "memory usage: 1.9+ MB\n"
     ]
    }
   ],
   "source": [
    "data.info()"
   ]
  },
  {
   "cell_type": "code",
   "execution_count": 19,
   "id": "f408e203-39fa-499a-bee5-052f066ebb20",
   "metadata": {
    "tags": []
   },
   "outputs": [
    {
     "name": "stderr",
     "output_type": "stream",
     "text": [
      "100%|██████████| 1/1 [00:00<00:00, 9425.40it/s]"
     ]
    },
    {
     "name": "stdout",
     "output_type": "stream",
     "text": [
      "Data successfully uploaded to BigQuery table: PRACTICE.housing\n",
      "Table contains 20640 records\n"
     ]
    },
    {
     "name": "stderr",
     "output_type": "stream",
     "text": [
      "\n"
     ]
    }
   ],
   "source": [
    "import pandas_gbq\n",
    "\n",
    "table_schema = [\n",
    "    {'name': 'longitude', 'type': 'FLOAT'},\n",
    "    {'name': 'latitude', 'type': 'FLOAT'}, \n",
    "    {'name': 'housing_median_age', 'type': 'FLOAT'},\n",
    "    {'name': 'total_rooms', 'type': 'FLOAT'},\n",
    "    {'name': 'total_bedrooms', 'type': 'FLOAT'},\n",
    "    {'name': 'population', 'type': 'FLOAT'},\n",
    "    {'name': 'households', 'type': 'FLOAT'},\n",
    "    {'name': 'median_income', 'type': 'FLOAT'},\n",
    "    {'name': 'median_house_value', 'type': 'FLOAT'},\n",
    "    {'name': 'ocean_proximity', 'type': 'STRING'},\n",
    "    {'name': 'event_timestamp', 'type': 'TIMESTAMP'},\n",
    "    {'name': 'entity_id', 'type': 'INTEGER'},\n",
    "]\n",
    "\n",
    "# Upload dataframe to BigQuery\n",
    "# if_exists=\"replace\" will overwrite existing table\n",
    "pandas_gbq.to_gbq(\n",
    "    data, \n",
    "    \"PRACTICE.housing\", \n",
    "    project_id=\"arcane-rigging-461217-m1\", \n",
    "    if_exists=\"replace\",\n",
    "    table_schema=table_schema\n",
    ")\n",
    "\n",
    "print(f\"Data successfully uploaded to BigQuery table: {'PRACTICE.housing'}\")\n",
    "print(f\"Table contains {len(data)} records\")"
   ]
  },
  {
   "cell_type": "code",
   "execution_count": 20,
   "id": "4d2bce0d-f1b4-44ca-b8e3-6f6eec259330",
   "metadata": {
    "tags": []
   },
   "outputs": [
    {
     "name": "stderr",
     "output_type": "stream",
     "text": [
      "None of PyTorch, TensorFlow >= 2.0, or Flax have been found. Models won't be available and only tokenizers, configuration and file/data utilities can be used.\n"
     ]
    },
    {
     "name": "stdout",
     "output_type": "stream",
     "text": [
      "\n",
      "Creating a new Feast repository in /home/jupyter/Feast.\n",
      "\n"
     ]
    }
   ],
   "source": [
    "%%bash\n",
    "# Initialize the Feast repository with GCP template\n",
    "feast init -m Feast -t gcp"
   ]
  },
  {
   "cell_type": "code",
   "execution_count": 21,
   "id": "fb1cf819-3d96-4264-88e1-40c13e6cb4b5",
   "metadata": {
    "tags": []
   },
   "outputs": [
    {
     "name": "stdout",
     "output_type": "stream",
     "text": [
      "/home/jupyter/Feast/feature_repo\n"
     ]
    }
   ],
   "source": [
    "%cd Feast/feature_repo"
   ]
  },
  {
   "cell_type": "code",
   "execution_count": 22,
   "id": "a517408e-ceb1-4a9c-8d19-4f9ef2a97553",
   "metadata": {
    "tags": []
   },
   "outputs": [
    {
     "name": "stdout",
     "output_type": "stream",
     "text": [
      "Feature store configuration created successfully!\n"
     ]
    }
   ],
   "source": [
    "# Create feature store configuration\n",
    "# This configures Feast to use BigQuery as offline store and Datastore as online store\n",
    "feature_store = f\"\"\"project: Feast\n",
    "registry: gs://practice-oppe-arcane-rigging-461217-m1/feast/registry.db\n",
    "provider: gcp\n",
    "entity_key_serialization_version: 2\n",
    "\n",
    "offline_store:\n",
    "  type: bigquery\n",
    "  dataset: {'PRACTICE_OPPE'}\n",
    "\n",
    "online_store:\n",
    "  type: datastore\n",
    "  project_id: {'arcane-rigging-461217-m1'}\n",
    "  namespace: {'PRACTICE_OPPE_ONLINE'}\n",
    "\"\"\"\n",
    "\n",
    "# Write configuration to feature_store.yaml\n",
    "with open('feature_store.yaml', \"w\") as feature_store_file:\n",
    "    feature_store_file.write(feature_store)\n",
    "    \n",
    "print(\"Feature store configuration created successfully!\")"
   ]
  },
  {
   "cell_type": "code",
   "execution_count": 25,
   "id": "66f700fb-f5cf-4203-ad70-e4528dcd864b",
   "metadata": {
    "tags": []
   },
   "outputs": [
    {
     "name": "stdout",
     "output_type": "stream",
     "text": [
      "Feature repository definitions created successfully!\n"
     ]
    }
   ],
   "source": [
    "# Creates definitions of entity, feature view, and feature service\n",
    "flower_features = f\"\"\"\n",
    "from datetime import timedelta\n",
    "from feast import BigQuerySource, FeatureView, FeatureService, Entity, ValueType\n",
    "\n",
    "# Define flower species as entity\n",
    "flower_entity = Entity(\n",
    "    name=\"entity_id\",\n",
    "    description=\"A \",\n",
    "    value_type=ValueType.INT64\n",
    ")\n",
    "\n",
    "# Define feature view for flower measurements\n",
    "flower_features = FeatureView(\n",
    "    name=\"flower_features\",\n",
    "    entities=[flower_entity],\n",
    "    ttl=timedelta(weeks=52),  # Time-to-live for features\n",
    "    source=BigQuerySource(\n",
    "        table=f\"PRACTICE.housing\",\n",
    "        timestamp_field=\"event_timestamp\"\n",
    "    ),\n",
    "    tags={{\"assignment\":\"week_3\"}}\n",
    ")\n",
    "\n",
    "# Create feature service for one model version\n",
    "# FeatureService groups features for specific use cases\n",
    "model_v1 = FeatureService(\n",
    "    name=\"feast_model_v1\",\n",
    "    features=[flower_features]\n",
    ")\n",
    "\"\"\"\n",
    "\n",
    "# Write feature definitions to feature_repo.py\n",
    "with open('feature_repo.py', \"w\") as feature_repo_file:\n",
    "    feature_repo_file.write(flower_features)\n",
    "    \n",
    "print(\"Feature repository definitions created successfully!\")"
   ]
  },
  {
   "cell_type": "code",
   "execution_count": 26,
   "id": "ca216b14-d55a-4f31-85dc-ca893e629df0",
   "metadata": {
    "tags": []
   },
   "outputs": [
    {
     "name": "stdout",
     "output_type": "stream",
     "text": [
      "None of PyTorch, TensorFlow >= 2.0, or Flax have been found. Models won't be available and only tokenizers, configuration and file/data utilities can be used.\n",
      "/home/jupyter/.env/lib/python3.12/site-packages/feast/repo_config.py:266: DeprecationWarning: The serialization version below 3 are deprecated. Specifying `entity_key_serialization_version` to 3 is recommended.\n",
      "  warnings.warn(\n",
      "No project found in the repository. Using project name Feast defined in feature_store.yaml\n",
      "Applying changes for project Feast\n",
      "Deploying infrastructure for \u001b[1m\u001b[32mflower_features\u001b[0m\n"
     ]
    }
   ],
   "source": [
    "!feast apply"
   ]
  },
  {
   "cell_type": "code",
   "execution_count": null,
   "id": "e0be6b43-e562-4b84-813d-e86f19499483",
   "metadata": {},
   "outputs": [],
   "source": [
    "!feast materialize 2025-06-20 2025-07-20"
   ]
  }
 ],
 "metadata": {
  "environment": {
   "kernel": "mlops",
   "name": "workbench-notebooks.m131",
   "type": "gcloud",
   "uri": "us-docker.pkg.dev/deeplearning-platform-release/gcr.io/workbench-notebooks:m131"
  },
  "kernelspec": {
   "display_name": "Python (practice)",
   "language": "python",
   "name": "mlops"
  },
  "language_info": {
   "codemirror_mode": {
    "name": "ipython",
    "version": 3
   },
   "file_extension": ".py",
   "mimetype": "text/x-python",
   "name": "python",
   "nbconvert_exporter": "python",
   "pygments_lexer": "ipython3",
   "version": "3.12.11"
  }
 },
 "nbformat": 4,
 "nbformat_minor": 5
}
